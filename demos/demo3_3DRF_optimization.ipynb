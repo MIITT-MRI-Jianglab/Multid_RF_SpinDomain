{
 "cells": [
  {
   "cell_type": "markdown",
   "id": "9cfc66fa",
   "metadata": {},
   "source": [
    "## Demo 3: 3D refocusing pulse optimization using spin-domain representations\n",
    "\n",
    "refer to the python file `design_3dpulses.py` ..."
   ]
  }
 ],
 "metadata": {
  "language_info": {
   "name": "python"
  }
 },
 "nbformat": 4,
 "nbformat_minor": 5
}
